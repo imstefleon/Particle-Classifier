{
 "cells": [
  {
   "cell_type": "code",
   "execution_count": 1,
   "id": "bda1107c-b755-4534-876f-f29750d61c95",
   "metadata": {},
   "outputs": [
    {
     "name": "stdout",
     "output_type": "stream",
     "text": [
      "Found 3563 clusters.\n"
     ]
    },
    {
     "name": "stderr",
     "output_type": "stream",
     "text": [
      "C:\\Users\\estef\\AppData\\Local\\Temp\\ipykernel_37600\\1156695857.py:26: SettingWithCopyWarning: \n",
      "A value is trying to be set on a copy of a slice from a DataFrame.\n",
      "Try using .loc[row_indexer,col_indexer] = value instead\n",
      "\n",
      "See the caveats in the documentation: https://pandas.pydata.org/pandas-docs/stable/user_guide/indexing.html#returning-a-view-versus-a-copy\n",
      "  filtered_data['Cluster'] = labels\n"
     ]
    },
    {
     "name": "stdout",
     "output_type": "stream",
     "text": [
      "CSV file successfully saved with selected columns and cluster labels.\n"
     ]
    }
   ],
   "source": [
    "import pandas as pd\n",
    "import numpy as np\n",
    "from sklearn.cluster import DBSCAN\n",
    "from sklearn.preprocessing import StandardScaler\n",
    "\n",
    "# Load the original dataset\n",
    "data = pd.read_csv('Plomo_pos')  # CSV\n",
    "\n",
    "# Filter relevant columns\n",
    "filtered_data = data[['Event', 'Particula', 'Px', 'Py', 'Pz', 'Carga']]\n",
    "\n",
    "# Normalize the data\n",
    "scaler = StandardScaler()\n",
    "X_scaled = scaler.fit_transform(filtered_data)\n",
    "\n",
    "# Apply DBSCAN\n",
    "dbscan = DBSCAN(eps=.1, min_samples=2)  # Adjust parameters as necessary\n",
    "labels = dbscan.fit_predict(X_scaled)\n",
    "\n",
    "# Get the number of clusters found\n",
    "n_clusters = len(set(labels)) - (1 if -1 in labels else 0)  # Subtract 1 if there are noise points (-1)\n",
    "\n",
    "print(f'Found {n_clusters} clusters.')\n",
    "\n",
    "# Add cluster labels to the original DataFrame\n",
    "filtered_data['Cluster'] = labels\n",
    "\n",
    "# Save the DataFrame with selected columns and cluster labels to a CSV file\n",
    "filtered_data.to_csv('PB-POS-C3.csv', index=False)\n",
    "\n",
    "print(\"CSV file successfully saved with selected columns and cluster labels.\")\n"
   ]
  },
  {
   "cell_type": "code",
   "execution_count": 2,
   "id": "00ee21d3-e1d5-41cd-8364-b714a07ecbca",
   "metadata": {},
   "outputs": [
    {
     "name": "stdout",
     "output_type": "stream",
     "text": [
      "Se encontraron 9229 clusters.\n"
     ]
    },
    {
     "name": "stderr",
     "output_type": "stream",
     "text": [
      "C:\\Users\\estef\\AppData\\Local\\Temp\\ipykernel_26432\\3825036282.py:26: SettingWithCopyWarning: \n",
      "A value is trying to be set on a copy of a slice from a DataFrame.\n",
      "Try using .loc[row_indexer,col_indexer] = value instead\n",
      "\n",
      "See the caveats in the documentation: https://pandas.pydata.org/pandas-docs/stable/user_guide/indexing.html#returning-a-view-versus-a-copy\n",
      "  filtered_data['Cluster'] = labels\n"
     ]
    },
    {
     "name": "stdout",
     "output_type": "stream",
     "text": [
      "Archivo CSV guardado exitosamente con las columnas seleccionadas y las etiquetas de los clusters.\n"
     ]
    }
   ],
   "source": [
    "import pandas as pd\n",
    "import numpy as np\n",
    "from sklearn.cluster import DBSCAN\n",
    "from sklearn.preprocessing import StandardScaler\n",
    "\n",
    "# Load the original dataset\n",
    "data = pd.read_csv('Plomo_neg')  # CSV\n",
    "\n",
    "# Filter relevant columns\n",
    "filtered_data = data[['Event', 'Particula', 'Px', 'Py', 'Pz', 'Carga']]\n",
    "\n",
    "# Normalize the data\n",
    "scaler = StandardScaler()\n",
    "X_scaled = scaler.fit_transform(filtered_data)\n",
    "\n",
    "# Apply DBSCAN\n",
    "dbscan = DBSCAN(eps=.1, min_samples=2)  # Adjust parameters as necessary\n",
    "labels = dbscan.fit_predict(X_scaled)\n",
    "\n",
    "# Get the number of clusters found\n",
    "n_clusters = len(set(labels)) - (1 if -1 in labels else 0)  # Subtract 1 if there are noise points (-1)\n",
    "\n",
    "print(f'Found {n_clusters} clusters.')\n",
    "\n",
    "# Add cluster labels to the original DataFrame\n",
    "filtered_data['Cluster'] = labels\n",
    "\n",
    "# Save the DataFrame with selected columns and cluster labels to a CSV file\n",
    "filtered_data.to_csv('PB-NEG-C3.csv', index=False)\n",
    "\n",
    "print(\"CSV file successfully saved with selected columns and cluster labels.\")\n"
   ]
  },
  {
   "cell_type": "code",
   "execution_count": null,
   "id": "5baf3ada-d844-4ad8-a3da-13fc955c99eb",
   "metadata": {},
   "outputs": [],
   "source": []
  }
 ],
 "metadata": {
  "kernelspec": {
   "display_name": "Python 3 (ipykernel)",
   "language": "python",
   "name": "python3"
  },
  "language_info": {
   "codemirror_mode": {
    "name": "ipython",
    "version": 3
   },
   "file_extension": ".py",
   "mimetype": "text/x-python",
   "name": "python",
   "nbconvert_exporter": "python",
   "pygments_lexer": "ipython3",
   "version": "3.9.13"
  }
 },
 "nbformat": 4,
 "nbformat_minor": 5
}
